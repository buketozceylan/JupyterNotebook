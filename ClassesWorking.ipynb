{
 "cells": [
  {
   "cell_type": "code",
   "execution_count": 42,
   "id": "4b65b84b-860f-4001-8397-6fc20fc12286",
   "metadata": {},
   "outputs": [],
   "source": [
    "class Person():\n",
    "    #properties\n",
    "    #name = \"\"\n",
    "    #age= 0\n",
    "\n",
    "    #method, initializer\n",
    "    def __init__(self):\n",
    "        print(\"init executed\")"
   ]
  },
  {
   "cell_type": "code",
   "execution_count": 43,
   "id": "df9156f3-26a1-4ed7-946e-507cec85ecf5",
   "metadata": {},
   "outputs": [],
   "source": [
    "myList = list()"
   ]
  },
  {
   "cell_type": "code",
   "execution_count": 44,
   "id": "7d0eb80b-f2f6-40fc-8e1d-aa3a2c3de751",
   "metadata": {},
   "outputs": [
    {
     "data": {
      "text/plain": [
       "list"
      ]
     },
     "execution_count": 44,
     "metadata": {},
     "output_type": "execute_result"
    }
   ],
   "source": [
    "type(myList)\n"
   ]
  },
  {
   "cell_type": "code",
   "execution_count": 45,
   "id": "0275a21b-fdb6-4639-b846-ea9ba416c175",
   "metadata": {},
   "outputs": [
    {
     "name": "stdout",
     "output_type": "stream",
     "text": [
      "init executed\n"
     ]
    }
   ],
   "source": [
    "buket = Person()"
   ]
  },
  {
   "cell_type": "code",
   "execution_count": 46,
   "id": "4a1d31fe-4cf0-4ec4-9105-4e2505a6b7e7",
   "metadata": {},
   "outputs": [
    {
     "data": {
      "text/plain": [
       "__main__.Person"
      ]
     },
     "execution_count": 46,
     "metadata": {},
     "output_type": "execute_result"
    }
   ],
   "source": [
    "type(buket)"
   ]
  },
  {
   "cell_type": "code",
   "execution_count": 47,
   "id": "b3944e9b-7dcb-47a9-a9c9-86908abcb621",
   "metadata": {},
   "outputs": [
    {
     "ename": "AttributeError",
     "evalue": "'Person' object has no attribute 'name'",
     "output_type": "error",
     "traceback": [
      "\u001b[0;31m---------------------------------------------------------------------------\u001b[0m",
      "\u001b[0;31mAttributeError\u001b[0m                            Traceback (most recent call last)",
      "Cell \u001b[0;32mIn[47], line 1\u001b[0m\n\u001b[0;32m----> 1\u001b[0m buket\u001b[38;5;241m.\u001b[39mname\n",
      "\u001b[0;31mAttributeError\u001b[0m: 'Person' object has no attribute 'name'"
     ]
    }
   ],
   "source": [
    "buket.name"
   ]
  },
  {
   "cell_type": "code",
   "execution_count": 48,
   "id": "92d36e49-2d69-4118-bcf6-161c97f0cfce",
   "metadata": {},
   "outputs": [],
   "source": [
    "buket.name = \"Buket Ozceylan\""
   ]
  },
  {
   "cell_type": "code",
   "execution_count": 49,
   "id": "71d1e33a-f4bf-49ce-9fc2-932b792dcf10",
   "metadata": {},
   "outputs": [
    {
     "data": {
      "text/plain": [
       "'Buket Ozceylan'"
      ]
     },
     "execution_count": 49,
     "metadata": {},
     "output_type": "execute_result"
    }
   ],
   "source": [
    "buket.name"
   ]
  },
  {
   "cell_type": "code",
   "execution_count": 18,
   "id": "b1671d06-66ba-4bba-97cf-d7a8a9cd9b16",
   "metadata": {},
   "outputs": [],
   "source": [
    "class Dog:\n",
    "\n",
    "    year = 7\n",
    "    def __init__(self,age):\n",
    "        self.age = age\n",
    "        self.dogHumanAge = age * self.year\n",
    "        \n",
    "    def humanAge(self):\n",
    "        return self.age * self.year #dog.year = self.year(same thing)"
   ]
  },
  {
   "cell_type": "code",
   "execution_count": 19,
   "id": "d28c6bc8-8350-4d04-b4e2-05eb16a82861",
   "metadata": {},
   "outputs": [],
   "source": [
    "myDog = Dog(3)"
   ]
  },
  {
   "cell_type": "code",
   "execution_count": 20,
   "id": "5500d0b0-f282-4d5f-9e30-0a97a1c34a42",
   "metadata": {},
   "outputs": [
    {
     "data": {
      "text/plain": [
       "3"
      ]
     },
     "execution_count": 20,
     "metadata": {},
     "output_type": "execute_result"
    }
   ],
   "source": [
    "myDog.age\n"
   ]
  },
  {
   "cell_type": "code",
   "execution_count": 21,
   "id": "13d425d0-2b4e-4d37-96cf-7cecbadd39af",
   "metadata": {},
   "outputs": [
    {
     "data": {
      "text/plain": [
       "21"
      ]
     },
     "execution_count": 21,
     "metadata": {},
     "output_type": "execute_result"
    }
   ],
   "source": [
    "myDog.humanAge()"
   ]
  },
  {
   "cell_type": "code",
   "execution_count": 22,
   "id": "c2df8f11-464e-47d9-9c00-27e5968d0497",
   "metadata": {},
   "outputs": [
    {
     "data": {
      "text/plain": [
       "21"
      ]
     },
     "execution_count": 22,
     "metadata": {},
     "output_type": "execute_result"
    }
   ],
   "source": [
    "myDog.dogHumanAge"
   ]
  },
  {
   "cell_type": "code",
   "execution_count": null,
   "id": "316a6750-cd6d-4415-a8cc-0d12a071f33c",
   "metadata": {},
   "outputs": [],
   "source": []
  }
 ],
 "metadata": {
  "kernelspec": {
   "display_name": "Python [conda env:base] *",
   "language": "python",
   "name": "conda-base-py"
  },
  "language_info": {
   "codemirror_mode": {
    "name": "ipython",
    "version": 3
   },
   "file_extension": ".py",
   "mimetype": "text/x-python",
   "name": "python",
   "nbconvert_exporter": "python",
   "pygments_lexer": "ipython3",
   "version": "3.13.5"
  }
 },
 "nbformat": 4,
 "nbformat_minor": 5
}
