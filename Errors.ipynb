{
 "cells": [
  {
   "cell_type": "code",
   "execution_count": 7,
   "id": "017307df-f0d2-448c-b933-cec6bb2ff56a",
   "metadata": {},
   "outputs": [
    {
     "name": "stdin",
     "output_type": "stream",
     "text": [
      "Enter age:  35\n"
     ]
    }
   ],
   "source": [
    "age = input(\"Enter age: \")"
   ]
  },
  {
   "cell_type": "code",
   "execution_count": 8,
   "id": "889e2476-3ee1-43a9-83f6-81010b488938",
   "metadata": {},
   "outputs": [
    {
     "data": {
      "text/plain": [
       "'35'"
      ]
     },
     "execution_count": 8,
     "metadata": {},
     "output_type": "execute_result"
    }
   ],
   "source": [
    "age\n"
   ]
  },
  {
   "cell_type": "code",
   "execution_count": 6,
   "id": "400e02af-f7a8-4ea8-8f04-6e1230e74bc3",
   "metadata": {},
   "outputs": [],
   "source": [
    "#try-except"
   ]
  },
  {
   "cell_type": "code",
   "execution_count": 16,
   "id": "9b48fa1f-610c-402a-8710-ee8a031e4ab8",
   "metadata": {},
   "outputs": [
    {
     "name": "stdin",
     "output_type": "stream",
     "text": [
      "Enter age:  26\n"
     ]
    },
    {
     "name": "stdout",
     "output_type": "stream",
     "text": [
      "52\n",
      "finally\n"
     ]
    }
   ],
   "source": [
    "while True:\n",
    "    try: \n",
    "        myAge = int(input(\"Enter age: \"))\n",
    "        print(myAge * 2)\n",
    "        break\n",
    "    except ValueError: \n",
    "        print(\"Enter your age!\")\n",
    "    else:\n",
    "        print(\"else executed\")\n",
    "    finally:\n",
    "        print(\"finally\")"
   ]
  },
  {
   "cell_type": "code",
   "execution_count": null,
   "id": "17008400-d08a-4937-9530-4ea71dcdb912",
   "metadata": {},
   "outputs": [],
   "source": []
  }
 ],
 "metadata": {
  "kernelspec": {
   "display_name": "Python [conda env:base] *",
   "language": "python",
   "name": "conda-base-py"
  },
  "language_info": {
   "codemirror_mode": {
    "name": "ipython",
    "version": 3
   },
   "file_extension": ".py",
   "mimetype": "text/x-python",
   "name": "python",
   "nbconvert_exporter": "python",
   "pygments_lexer": "ipython3",
   "version": "3.13.5"
  }
 },
 "nbformat": 4,
 "nbformat_minor": 5
}
