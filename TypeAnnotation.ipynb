{
 "cells": [
  {
   "cell_type": "code",
   "execution_count": 3,
   "id": "4bb5e03d-e0f1-49c9-8b30-fa05c6893fe6",
   "metadata": {},
   "outputs": [],
   "source": [
    "name : str = \"Buket\""
   ]
  },
  {
   "cell_type": "code",
   "execution_count": 4,
   "id": "884a844e-4952-4405-92af-01c7461b463e",
   "metadata": {},
   "outputs": [
    {
     "data": {
      "text/plain": [
       "str"
      ]
     },
     "execution_count": 4,
     "metadata": {},
     "output_type": "execute_result"
    }
   ],
   "source": [
    "type(name)"
   ]
  },
  {
   "cell_type": "code",
   "execution_count": 5,
   "id": "8139271d-b4bb-40dd-823e-f351ab0e7d00",
   "metadata": {},
   "outputs": [],
   "source": [
    "surname : str = 20"
   ]
  },
  {
   "cell_type": "code",
   "execution_count": 6,
   "id": "a44ba1a7-31d9-46ab-8281-f9f923fa0a4f",
   "metadata": {},
   "outputs": [
    {
     "data": {
      "text/plain": [
       "int"
      ]
     },
     "execution_count": 6,
     "metadata": {},
     "output_type": "execute_result"
    }
   ],
   "source": [
    "type(surname)"
   ]
  },
  {
   "cell_type": "code",
   "execution_count": 33,
   "id": "d7298066-c13b-422d-bf03-c9f06492e4ab",
   "metadata": {},
   "outputs": [],
   "source": [
    "barkodDizisi = [\"ABC231\",\"SA3123XYZ\",\"XYZA123Q\",\"QRE1231KJ\",\"X112QGL\"]\n"
   ]
  },
  {
   "cell_type": "code",
   "execution_count": 43,
   "id": "c7eb8150-1ecb-4b9b-bb9a-c53e6508d35d",
   "metadata": {},
   "outputs": [],
   "source": [
    "\n",
    "\n",
    "class Kedi():\n",
    "        \n",
    "    def __init__(self,isim,yas=5):\n",
    "        self.isim = isim\n",
    "        self.yas = yas\n",
    "        \n",
    "    def yasiCarp(self):\n",
    "        return self.yas * 3\n",
    "\n"
   ]
  },
  {
   "cell_type": "code",
   "execution_count": 45,
   "id": "d68670e8-8a8d-4e2f-817e-ea3d1f62ca0c",
   "metadata": {},
   "outputs": [],
   "source": [
    "kedim = Kedi(\"Tonton\")"
   ]
  },
  {
   "cell_type": "code",
   "execution_count": 46,
   "id": "9b2e74b6-f225-4874-9365-09430902096d",
   "metadata": {},
   "outputs": [
    {
     "data": {
      "text/plain": [
       "15"
      ]
     },
     "execution_count": 46,
     "metadata": {},
     "output_type": "execute_result"
    }
   ],
   "source": [
    "kedim.yasiCarp()"
   ]
  },
  {
   "cell_type": "code",
   "execution_count": 47,
   "id": "f5707e22-ba7b-4a01-944a-dd3cc4bb2709",
   "metadata": {},
   "outputs": [],
   "source": [
    "class Ogrenci():\n",
    "    \n",
    "    def __init__(self,isim,sinavNotu):\n",
    "        self.isim = isim\n",
    "        self.__sinavNotu = sinavNotu\n",
    "    \n",
    "    def notuGoster(self):\n",
    "        print(f\"{self.isim} sınav notu: {self.__sinavNotu}\")"
   ]
  },
  {
   "cell_type": "code",
   "execution_count": 48,
   "id": "ba3cd5c1-ca1c-48f8-a61e-57c7752a7215",
   "metadata": {},
   "outputs": [],
   "source": [
    "ogrenci = Ogrenci(\"Mehmet\",85)"
   ]
  },
  {
   "cell_type": "code",
   "execution_count": 49,
   "id": "faa429a7-854e-4cbe-9194-42458a160ec8",
   "metadata": {},
   "outputs": [],
   "source": [
    "ogrenci.__sinavNotu = 75\n"
   ]
  },
  {
   "cell_type": "code",
   "execution_count": 50,
   "id": "d1549912-079f-435b-8bf1-a5d815d0510e",
   "metadata": {},
   "outputs": [
    {
     "name": "stdout",
     "output_type": "stream",
     "text": [
      "Mehmet sınav notu: 85\n"
     ]
    }
   ],
   "source": [
    "ogrenci.notuGoster()"
   ]
  },
  {
   "cell_type": "code",
   "execution_count": null,
   "id": "f1397708-ee20-4fd2-b621-d48758dffa72",
   "metadata": {},
   "outputs": [],
   "source": []
  }
 ],
 "metadata": {
  "kernelspec": {
   "display_name": "Python [conda env:base] *",
   "language": "python",
   "name": "conda-base-py"
  },
  "language_info": {
   "codemirror_mode": {
    "name": "ipython",
    "version": 3
   },
   "file_extension": ".py",
   "mimetype": "text/x-python",
   "name": "python",
   "nbconvert_exporter": "python",
   "pygments_lexer": "ipython3",
   "version": "3.13.5"
  }
 },
 "nbformat": 4,
 "nbformat_minor": 5
}
