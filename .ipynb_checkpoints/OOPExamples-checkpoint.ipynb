{
 "cells": [
  {
   "cell_type": "code",
   "execution_count": 6,
   "id": "bf38b225-f473-4d53-9b76-1a08fec29815",
   "metadata": {},
   "outputs": [],
   "source": [
    "class Musician():\n",
    "\n",
    "    def __init__(self,name):\n",
    "        self.name = name\n",
    "        print(\"Musician class\")\n",
    "    def test1(self):\n",
    "        print(\"test1\")\n",
    "    def test2(self):\n",
    "        print(\"test2\")"
   ]
  },
  {
   "cell_type": "code",
   "execution_count": 7,
   "id": "da7b84c2-b2d3-43fb-89c9-166fe78a499b",
   "metadata": {},
   "outputs": [
    {
     "name": "stdout",
     "output_type": "stream",
     "text": [
      "Musician class\n"
     ]
    }
   ],
   "source": [
    "buket = Musician(\"Buket\")"
   ]
  },
  {
   "cell_type": "code",
   "execution_count": 9,
   "id": "9b618c7b-fa46-438e-a977-51d74c59534c",
   "metadata": {},
   "outputs": [
    {
     "name": "stdout",
     "output_type": "stream",
     "text": [
      "test1\n"
     ]
    }
   ],
   "source": [
    "buket.test1()"
   ]
  },
  {
   "cell_type": "code",
   "execution_count": 20,
   "id": "89b3654d-0a7c-43d3-8480-16d554f88186",
   "metadata": {},
   "outputs": [],
   "source": [
    "class MusicianPlus(Musician):\n",
    "    def __init__(self,name):\n",
    "        Musician.__init__(self,name)\n",
    "        print(\"Musician Plus\")\n",
    "    def test3(self):\n",
    "        print(\"test3\")\n",
    "    def test1(self):\n",
    "        print(\"test1 test1 test1\")"
   ]
  },
  {
   "cell_type": "code",
   "execution_count": 21,
   "id": "3488009d-3beb-410f-80bd-476070f0f59d",
   "metadata": {},
   "outputs": [
    {
     "name": "stdout",
     "output_type": "stream",
     "text": [
      "Musician class\n",
      "Musician Plus\n"
     ]
    }
   ],
   "source": [
    "Bebine = MusicianPlus(\"Bebine\")"
   ]
  },
  {
   "cell_type": "code",
   "execution_count": 22,
   "id": "2f9ed82d-1d1a-4711-8917-70d2f29e43ba",
   "metadata": {},
   "outputs": [
    {
     "name": "stdout",
     "output_type": "stream",
     "text": [
      "test1 test1 test1\n"
     ]
    }
   ],
   "source": [
    "Bebine.test1()"
   ]
  },
  {
   "cell_type": "code",
   "execution_count": 23,
   "id": "8994c364-04da-407a-a389-ef9cc7883764",
   "metadata": {},
   "outputs": [
    {
     "name": "stdout",
     "output_type": "stream",
     "text": [
      "test1\n"
     ]
    }
   ],
   "source": [
    "buket.test1()"
   ]
  },
  {
   "cell_type": "code",
   "execution_count": 24,
   "id": "16a16f38-c47c-4d83-8313-046bbb1700a3",
   "metadata": {},
   "outputs": [],
   "source": [
    "class Banana():\n",
    "    def __init__(self,name):\n",
    "        self.name = name\n",
    "    def info(self):\n",
    "        return f\"100 calories {self.name}\"\n",
    "class Apple():\n",
    "    def __init__(self,name):\n",
    "        self.name = name\n",
    "    def info(self):\n",
    "        return f\"150 calories {self.name}\"\n",
    "              "
   ]
  },
  {
   "cell_type": "code",
   "execution_count": 29,
   "id": "583af4d3-fcf1-4c99-9170-1d952a1ce84a",
   "metadata": {},
   "outputs": [],
   "source": [
    "banana = Banana(\"Banana\")"
   ]
  },
  {
   "cell_type": "code",
   "execution_count": 30,
   "id": "7ce01780-9cfb-4136-bc95-91ddd32efd6c",
   "metadata": {},
   "outputs": [],
   "source": [
    "apple = Apple(\"Apple\")"
   ]
  },
  {
   "cell_type": "code",
   "execution_count": 31,
   "id": "fa3069d8-754c-4155-98e9-b8d71f244bd0",
   "metadata": {},
   "outputs": [
    {
     "data": {
      "text/plain": [
       "'100 calories Banana'"
      ]
     },
     "execution_count": 31,
     "metadata": {},
     "output_type": "execute_result"
    }
   ],
   "source": [
    "banana.info()"
   ]
  },
  {
   "cell_type": "code",
   "execution_count": 32,
   "id": "72a6b4fe-bc1a-4470-913d-46bd6960e795",
   "metadata": {},
   "outputs": [],
   "source": [
    "fruitList = [banana,apple]"
   ]
  },
  {
   "cell_type": "code",
   "execution_count": 33,
   "id": "e7f91bb7-0125-492c-85d6-8f90868c6de6",
   "metadata": {},
   "outputs": [
    {
     "name": "stdout",
     "output_type": "stream",
     "text": [
      "100 calories Banana\n",
      "150 calories Apple\n"
     ]
    }
   ],
   "source": [
    "for fruit in fruitList:\n",
    "    print(fruit.info())"
   ]
  },
  {
   "cell_type": "code",
   "execution_count": 52,
   "id": "6765ced9-0e6b-432a-a9dd-3eb38502e3fa",
   "metadata": {},
   "outputs": [],
   "source": [
    "class Phone():\n",
    "    def __init__(self,name,price):\n",
    "        self.name = name\n",
    "        self.__price = price\n",
    "    def info(self):\n",
    "        print(f\"{self.name} price is: {self.__price}\")\n",
    "    def changePrice(self,price):\n",
    "        self.__price = price"
   ]
  },
  {
   "cell_type": "code",
   "execution_count": 53,
   "id": "f56e692d-eddf-47da-bdc7-fc0f52cc3b5c",
   "metadata": {},
   "outputs": [],
   "source": [
    "iphone = Phone(\"iPhone 14\", 500)"
   ]
  },
  {
   "cell_type": "code",
   "execution_count": 54,
   "id": "f89fee2c-7a2d-40c3-b6ff-db44a9be87df",
   "metadata": {},
   "outputs": [
    {
     "name": "stdout",
     "output_type": "stream",
     "text": [
      "iPhone 14 price is: 500\n"
     ]
    }
   ],
   "source": [
    "iphone.info()"
   ]
  },
  {
   "cell_type": "code",
   "execution_count": 55,
   "id": "0f2be0ac-33e6-4670-887d-cacdc2c8ec4a",
   "metadata": {},
   "outputs": [],
   "source": [
    "iphone.__price = 400"
   ]
  },
  {
   "cell_type": "code",
   "execution_count": 56,
   "id": "34a17bd3-f0e8-4901-97ab-0f0d4a16950f",
   "metadata": {},
   "outputs": [
    {
     "name": "stdout",
     "output_type": "stream",
     "text": [
      "iPhone 14 price is: 500\n"
     ]
    }
   ],
   "source": [
    "iphone.info()"
   ]
  },
  {
   "cell_type": "code",
   "execution_count": 57,
   "id": "e9ba0351-775b-4275-8bb2-30c38637e3bb",
   "metadata": {},
   "outputs": [],
   "source": [
    "iphone.changePrice(300)"
   ]
  },
  {
   "cell_type": "code",
   "execution_count": 58,
   "id": "26409335-dfcf-4a0f-8396-c7e2ee16c043",
   "metadata": {},
   "outputs": [
    {
     "name": "stdout",
     "output_type": "stream",
     "text": [
      "iPhone 14 price is: 300\n"
     ]
    }
   ],
   "source": [
    "iphone.info()\n"
   ]
  },
  {
   "cell_type": "code",
   "execution_count": 59,
   "id": "ae95140d-7406-4786-bb94-1722aac1cafa",
   "metadata": {},
   "outputs": [],
   "source": [
    "from abc import ABC, abstractmethod\n"
   ]
  },
  {
   "cell_type": "code",
   "execution_count": null,
   "id": "27c53f58-1f82-4651-8586-bf91bc34eab3",
   "metadata": {},
   "outputs": [],
   "source": [
    "class "
   ]
  }
 ],
 "metadata": {
  "kernelspec": {
   "display_name": "Python [conda env:base] *",
   "language": "python",
   "name": "conda-base-py"
  },
  "language_info": {
   "codemirror_mode": {
    "name": "ipython",
    "version": 3
   },
   "file_extension": ".py",
   "mimetype": "text/x-python",
   "name": "python",
   "nbconvert_exporter": "python",
   "pygments_lexer": "ipython3",
   "version": "3.13.5"
  }
 },
 "nbformat": 4,
 "nbformat_minor": 5
}
